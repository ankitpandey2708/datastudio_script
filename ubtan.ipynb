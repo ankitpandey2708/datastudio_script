{
 "cells": [
  {
   "cell_type": "code",
   "execution_count": 1,
   "metadata": {},
   "outputs": [],
   "source": [
    "import locale\n",
    "locale.setlocale( locale.LC_ALL, \"en_US.UTF-8\")\n",
    "import time\n",
    "from selenium import webdriver\n",
    "from bs4 import BeautifulSoup\n",
    "url = 'https://datastudio.google.com/u/0/reporting/1Ls-fZUS6nw8NyY5jEpjW1XB5a1mADr56/page/k7Xn'\n",
    "driver = webdriver.Chrome()\n",
    "driver.get(url)\n",
    "time.sleep(5)"
   ]
  },
  {
   "cell_type": "code",
   "execution_count": 2,
   "metadata": {},
   "outputs": [],
   "source": [
    "elem = driver.page_source.encode('utf-8')\n",
    "html_soup = BeautifulSoup(elem, 'html.parser')\n",
    "a=html_soup.find_all('div', {'class': 'valueLabel ng-binding'})"
   ]
  },
  {
   "cell_type": "code",
   "execution_count": 3,
   "metadata": {},
   "outputs": [
    {
     "name": "stdout",
     "output_type": "stream",
     "text": [
      "127197\n",
      "11869\n"
     ]
    }
   ],
   "source": [
    "Impressions = a[0].text.split(\"\\n\")[1].lstrip().replace(',','')\n",
    "Clicks = a[1].text.split(\"\\n\")[1].lstrip().replace(',','')\n",
    "print(Impressions)\n",
    "print(Clicks)"
   ]
  }
 ],
 "metadata": {
  "kernelspec": {
   "display_name": "Python 3",
   "language": "python",
   "name": "python3"
  },
  "language_info": {
   "codemirror_mode": {
    "name": "ipython",
    "version": 3
   },
   "file_extension": ".py",
   "mimetype": "text/x-python",
   "name": "python",
   "nbconvert_exporter": "python",
   "pygments_lexer": "ipython3",
   "version": "3.6.8"
  }
 },
 "nbformat": 4,
 "nbformat_minor": 2
}
